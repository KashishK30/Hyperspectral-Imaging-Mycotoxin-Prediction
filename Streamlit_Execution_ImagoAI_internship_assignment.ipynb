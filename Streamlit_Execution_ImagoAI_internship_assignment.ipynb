{
  "nbformat": 4,
  "nbformat_minor": 0,
  "metadata": {
    "colab": {
      "provenance": []
    },
    "kernelspec": {
      "name": "python3",
      "display_name": "Python 3"
    },
    "language_info": {
      "name": "python"
    }
  },
  "cells": [
    {
      "cell_type": "markdown",
      "source": [
        "Preprocessing"
      ],
      "metadata": {
        "id": "epqV9EFleL9k"
      }
    },
    {
      "cell_type": "code",
      "source": [
        "import numpy as np\n",
        "import pandas as pd\n",
        "from scipy.signal import savgol_filter\n",
        "\n",
        "\n",
        "# Load the dataset (update the filename as needed)\n",
        "file_path = \"/content/drive/MyDrive/ImagoAI_Internship_Assignment/TASK-ML-INTERN.csv\"  # Replace with actual file path\n",
        "df = pd.read_csv(file_path)\n",
        "\n",
        "# Extract hyperspectral features (excluding ID and target variable)\n",
        "X = df.iloc[:, 1:-1].values  # Features (wavelength bands)\n",
        "y = df['vomitoxin_ppb'].values  # Target variable\n",
        "\n",
        "# ✅ Standard Normal Variate (SNV) Normalization\n",
        "def snv(input_data):\n",
        "    \"\"\"Apply Standard Normal Variate (SNV) transformation.\"\"\"\n",
        "    return (input_data - np.mean(input_data, axis=1, keepdims=True)) / np.std(input_data, axis=1, keepdims=True)\n",
        "\n",
        "X_snv = snv(X)\n",
        "\n",
        "# ✅ Savitzky-Golay Filtering for Smoothing Spectral Data\n",
        "X_sg = savgol_filter(X_snv, window_length=5, polyorder=2, axis=1)\n",
        "\n",
        "# Convert to DataFrame for easier handling\n",
        "df_preprocessed = pd.DataFrame(X_sg, columns=df.columns[1:-1])\n",
        "df_preprocessed['vomitoxin_ppb'] = y\n",
        "\n",
        "# Save preprocessed data for the next steps\n",
        "preprocessed_file = \"/content/drive/MyDrive/ImagoAI_Internship_Assignment/preprocessed_hyperspectral_data.csv\"\n",
        "df_preprocessed.to_csv(preprocessed_file, index=False)\n",
        "\n",
        "# Return file path for verification\n",
        "preprocessed_file"
      ],
      "metadata": {
        "colab": {
          "base_uri": "https://localhost:8080/",
          "height": 35
        },
        "id": "Mg61-lvWQE3J",
        "outputId": "70a3c674-7899-4ac8-db68-2c61ac63ed7e"
      },
      "execution_count": 11,
      "outputs": [
        {
          "output_type": "execute_result",
          "data": {
            "text/plain": [
              "'/content/drive/MyDrive/ImagoAI_Internship_Assignment/preprocessed_hyperspectral_data.csv'"
            ],
            "application/vnd.google.colaboratory.intrinsic+json": {
              "type": "string"
            }
          },
          "metadata": {},
          "execution_count": 11
        }
      ]
    },
    {
      "cell_type": "code",
      "source": [
        "from sklearn.linear_model import LinearRegression\n",
        "from scipy.spatial.distance import cdist\n",
        "\n",
        "def successive_projections_algorithm(X, num_features):\n",
        "    \"\"\"\n",
        "    Implements the Successive Projections Algorithm (SPA) for feature selection.\n",
        "\n",
        "    Parameters:\n",
        "        X (numpy.ndarray): Preprocessed hyperspectral data (samples x features).\n",
        "        num_features (int): Number of relevant features to select.\n",
        "\n",
        "    Returns:\n",
        "        selected_features (list): Indices of selected wavelengths.\n",
        "    \"\"\"\n",
        "    num_samples, num_wavelengths = X.shape\n",
        "    selected_features = []\n",
        "    remaining_features = list(range(num_wavelengths))\n",
        "\n",
        "    # Start with the most representative feature (max variance)\n",
        "    first_feature = np.argmax(np.var(X, axis=0))\n",
        "    selected_features.append(first_feature)\n",
        "    remaining_features.remove(first_feature)\n",
        "\n",
        "    for _ in range(num_features - 1):\n",
        "        # Compute distances between selected and remaining features\n",
        "        distances = cdist(X[:, selected_features].T, X[:, remaining_features].T, metric='euclidean')\n",
        "\n",
        "        # Select the feature that maximizes projection distance\n",
        "        next_feature = remaining_features[np.argmax(np.min(distances, axis=0))]\n",
        "        selected_features.append(next_feature)\n",
        "        remaining_features.remove(next_feature)\n",
        "\n",
        "    return selected_features\n",
        "\n",
        "# Define number of wavelengths to retain (e.g., 20 most relevant)\n",
        "num_selected_features = 20\n",
        "\n",
        "# Apply SPA to preprocessed data\n",
        "selected_feature_indices = successive_projections_algorithm(df_preprocessed.iloc[:, :-1].values, num_selected_features)\n",
        "\n",
        "# Extract selected wavelengths\n",
        "df_spa_selected = df_preprocessed.iloc[:, selected_feature_indices]\n",
        "df_spa_selected['vomitoxin_ppb'] = df_preprocessed['vomitoxin_ppb']\n",
        "\n",
        "# Save SPA-selected data for model training\n",
        "spa_file = \"/content/drive/MyDrive/ImagoAI_Internship_Assignment/spa_selected_hyperspectral_data.csv\"\n",
        "df_spa_selected.to_csv(spa_file, index=False)\n",
        "\n",
        "# Return selected feature indices & file path for verification\n",
        "selected_feature_indices, spa_file\n"
      ],
      "metadata": {
        "colab": {
          "base_uri": "https://localhost:8080/"
        },
        "id": "UgTnEtqwsQ4g",
        "outputId": "ee0fb8db-f83b-4c02-b3f9-50ecc3d2e4c8"
      },
      "execution_count": 12,
      "outputs": [
        {
          "output_type": "stream",
          "name": "stderr",
          "text": [
            "<ipython-input-12-50d612d52353>:43: SettingWithCopyWarning: \n",
            "A value is trying to be set on a copy of a slice from a DataFrame.\n",
            "Try using .loc[row_indexer,col_indexer] = value instead\n",
            "\n",
            "See the caveats in the documentation: https://pandas.pydata.org/pandas-docs/stable/user_guide/indexing.html#returning-a-view-versus-a-copy\n",
            "  df_spa_selected['vomitoxin_ppb'] = df_preprocessed['vomitoxin_ppb']\n"
          ]
        },
        {
          "output_type": "execute_result",
          "data": {
            "text/plain": [
              "([np.int64(0),\n",
              "  339,\n",
              "  120,\n",
              "  43,\n",
              "  98,\n",
              "  180,\n",
              "  79,\n",
              "  91,\n",
              "  422,\n",
              "  144,\n",
              "  106,\n",
              "  84,\n",
              "  23,\n",
              "  6,\n",
              "  250,\n",
              "  203,\n",
              "  88,\n",
              "  447,\n",
              "  94,\n",
              "  112],\n",
              " '/content/drive/MyDrive/ImagoAI_Internship_Assignment/spa_selected_hyperspectral_data.csv')"
            ]
          },
          "metadata": {},
          "execution_count": 12
        }
      ]
    },
    {
      "cell_type": "code",
      "source": [
        "import xgboost as xgb\n",
        "from sklearn.model_selection import train_test_split\n",
        "from sklearn.metrics import mean_absolute_error, mean_squared_error, r2_score\n",
        "\n",
        "\n",
        "\n",
        "# Load SPA-selected dataset (assuming it's saved from previous step)\n",
        "spa_file_path = \"/content/drive/MyDrive/ImagoAI_Internship_Assignment/spa_selected_hyperspectral_data.csv\"\n",
        "df_spa_selected = pd.read_csv(spa_file_path)\n",
        "\n",
        "# Extract features and target\n",
        "X = df_spa_selected.iloc[:, :-1].values  # Selected features\n",
        "y = df_spa_selected['vomitoxin_ppb'].values  # Target variable\n",
        "\n",
        "# Split into training and testing sets (80-20 split)\n",
        "X_train, X_test, y_train, y_test = train_test_split(X, y, test_size=0.2, random_state=42)\n",
        "\n",
        "\n",
        "# ✅ Train XGBoost Model\n",
        "xgb_model = xgb.XGBRegressor(n_estimators=300, learning_rate=0.05, max_depth=6, subsample=0.8, colsample_bytree=0.8, random_state=42)\n",
        "xgb_model.fit(X_train, y_train)\n",
        "y_pred_xgb = xgb_model.predict(X_test)\n",
        "\n",
        "# ✅ Compute Evaluation Metrics\n",
        "def evaluate_model(y_true, y_pred, model_name):\n",
        "    mae = mean_absolute_error(y_true, y_pred)\n",
        "    rmse = np.sqrt(mean_squared_error(y_true, y_pred))\n",
        "    r2 = r2_score(y_true, y_pred)\n",
        "    return f\"{model_name} → MAE: {mae:.2f}, RMSE: {rmse:.2f}, R²: {r2:.2f}\"\n",
        "\n",
        "\n",
        "xgb_results = evaluate_model(y_test, y_pred_xgb, \"XGBoost\")\n",
        "\n",
        "# Return results\n",
        "xgb_results\n"
      ],
      "metadata": {
        "colab": {
          "base_uri": "https://localhost:8080/",
          "height": 35
        },
        "id": "fFssKCcfWALy",
        "outputId": "31aedb54-e2b9-40fa-d484-b2812685fc62"
      },
      "execution_count": 18,
      "outputs": [
        {
          "output_type": "execute_result",
          "data": {
            "text/plain": [
              "'XGBoost → MAE: 2558.92, RMSE: 8382.82, R²: 0.75'"
            ],
            "application/vnd.google.colaboratory.intrinsic+json": {
              "type": "string"
            }
          },
          "metadata": {},
          "execution_count": 18
        }
      ]
    },
    {
      "cell_type": "code",
      "source": [
        "best_xgb_model = xgb_model"
      ],
      "metadata": {
        "id": "FpVlhie6v3SC"
      },
      "execution_count": 19,
      "outputs": []
    },
    {
      "cell_type": "code",
      "source": [
        "import xgboost as xgb\n",
        "\n",
        "# Save using XGBoost's recommended method\n",
        "best_xgb_model.save_model(\"/content/drive/MyDrive/ImagoAI_Internship_Assignment/xgboost_model.json\")"
      ],
      "metadata": {
        "id": "9MbXU7UBv3w2"
      },
      "execution_count": 20,
      "outputs": []
    }
  ]
}